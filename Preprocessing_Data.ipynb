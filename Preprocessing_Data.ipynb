{
  "nbformat": 4,
  "nbformat_minor": 0,
  "metadata": {
    "colab": {
      "provenance": []
    },
    "kernelspec": {
      "name": "python3",
      "display_name": "Python 3"
    },
    "language_info": {
      "name": "python"
    }
  },
  "cells": [
    {
      "cell_type": "code",
      "execution_count": 1,
      "metadata": {
        "id": "7dmY1zy4RoKg"
      },
      "outputs": [],
      "source": [
        "# Mengimport library yang diperlukan dan memberikan alias\n",
        "\n",
        "import numpy as np  # NumPy untuk operasi numerik dan array\n",
        "import pandas as pd  # Pandas untuk manipulasi dan analisis data\n",
        "import matplotlib.pyplot as plt  # Matplotlib untuk visualisasi data"
      ]
    },
    {
      "cell_type": "code",
      "source": [
        "dataset = pd.read_csv('data_kesehatan_tidur.csv', sep = ';')  # Membaca CSV dengan pemisah ;\n",
        "x = dataset.iloc[:, :-1].values  # Memisahkan fitur (semua kolom kecuali kolom terakhir)\n",
        "y = dataset.iloc[:, -1].values  # Memisahkan label (kolom terakhir sebagai target)"
      ],
      "metadata": {
        "id": "EBF9F6gJTEwk"
      },
      "execution_count": 2,
      "outputs": []
    },
    {
      "cell_type": "code",
      "source": [
        "print(x)  # Menampilkan array fitur (X)"
      ],
      "metadata": {
        "colab": {
          "base_uri": "https://localhost:8080/"
        },
        "id": "ZLIPvPzaTMan",
        "outputId": "d0dac757-c547-4126-d8bc-9396abe16704"
      },
      "execution_count": 3,
      "outputs": [
        {
          "output_type": "stream",
          "name": "stdout",
          "text": [
            "[['Laki-laki' 6.0 1.0 113.0 2.0 33.0 'Ya']\n",
            " ['Perempuan' 8.0 nan 119.0 6.0 19.0 'Ya']\n",
            " ['Perempuan' 7.0 3.0 110.0 6.0 28.0 'Tidak']\n",
            " ['Laki-laki' 8.0 3.0 125.0 5.0 35.0 'Ya']\n",
            " ['Perempuan' nan 2.0 99.0 9.0 27.0 'Tidak']\n",
            " ['Perempuan' 7.0 4.0 nan 3.0 34.0 'Tidak']\n",
            " ['Laki-laki' 9.0 4.0 nan 5.0 22.0 nan]\n",
            " ['Perempuan' 7.0 0.0 134.0 5.0 31.0 'Ya']\n",
            " ['Perempuan' nan 0.0 116.0 3.0 27.0 'Ya']\n",
            " ['Laki-laki' 7.0 3.0 139.0 6.0 30.0 'Ya']\n",
            " ['Laki-laki' nan 2.0 120.0 nan 19.0 'Tidak']\n",
            " ['Laki-laki' 8.0 1.0 101.0 6.0 21.0 'Ya']\n",
            " ['Perempuan' 7.0 3.0 131.0 3.0 20.0 'Ya']\n",
            " ['Laki-laki' 6.0 nan 107.0 5.0 nan 'Ya']\n",
            " ['Laki-laki' 9.0 3.0 nan 2.0 32.0 'Tidak']]\n"
          ]
        }
      ]
    },
    {
      "cell_type": "code",
      "source": [
        "print(y)  # Menampilkan array label (Y)"
      ],
      "metadata": {
        "colab": {
          "base_uri": "https://localhost:8080/"
        },
        "id": "jyZ9IRjzTe8g",
        "outputId": "6ff496aa-deea-4ba0-d97b-0c9b1a466ab4"
      },
      "execution_count": 4,
      "outputs": [
        {
          "output_type": "stream",
          "name": "stdout",
          "text": [
            "['Tidak' 'Ya' 'Ya' 'Ya' 'Ya' 'Tidak' 'Tidak' 'Tidak' 'Tidak' 'Ya' 'Ya'\n",
            " 'Ya' 'Tidak' 'Ya' 'Tidak']\n"
          ]
        }
      ]
    },
    {
      "cell_type": "code",
      "source": [
        "# Mengimport SimpleImputer untuk menangani missing values\n",
        "from sklearn.impute import SimpleImputer\n",
        "\n",
        "num_imputer = SimpleImputer(strategy='mean')  # Mengisi missing values pada kolom numerik dengan rata-rata\n",
        "numeric_cols = [\"Durasi Tidur\", \"Kafein Harian\", \"Tekanan Darah\", \"Waktu Layar\", \"BMI\"]  # Daftar kolom numerik\n",
        "dataset[numeric_cols] = num_imputer.fit_transform(dataset[numeric_cols])  # Menerapkan imputasi ke kolom numerik di dataset"
      ],
      "metadata": {
        "id": "gyZ8enPRTh3v"
      },
      "execution_count": 5,
      "outputs": []
    },
    {
      "cell_type": "code",
      "source": [
        "print(dataset[numeric_cols])  # Menampilkan kolom numerik di dataset untuk memastikan tidak ada missing value (nan)"
      ],
      "metadata": {
        "colab": {
          "base_uri": "https://localhost:8080/"
        },
        "id": "g5lRxIamT1Dp",
        "outputId": "205a3d29-3fa7-4fa5-cfdc-67c4e198f5d0"
      },
      "execution_count": 6,
      "outputs": [
        {
          "output_type": "stream",
          "name": "stdout",
          "text": [
            "    Durasi Tidur  Kafein Harian  Tekanan Darah  Waktu Layar   BMI\n",
            "0       6.000000       1.000000     113.000000     2.000000  33.0\n",
            "1       8.000000       2.230769     119.000000     6.000000  19.0\n",
            "2       7.000000       3.000000     110.000000     6.000000  28.0\n",
            "3       8.000000       3.000000     125.000000     5.000000  35.0\n",
            "4       7.416667       2.000000      99.000000     9.000000  27.0\n",
            "5       7.000000       4.000000     117.833333     3.000000  34.0\n",
            "6       9.000000       4.000000     117.833333     5.000000  22.0\n",
            "7       7.000000       0.000000     134.000000     5.000000  31.0\n",
            "8       7.416667       0.000000     116.000000     3.000000  27.0\n",
            "9       7.000000       3.000000     139.000000     6.000000  30.0\n",
            "10      7.416667       2.000000     120.000000     4.714286  19.0\n",
            "11      8.000000       1.000000     101.000000     6.000000  21.0\n",
            "12      7.000000       3.000000     131.000000     3.000000  20.0\n",
            "13      6.000000       2.230769     107.000000     5.000000  27.0\n",
            "14      9.000000       3.000000     117.833333     2.000000  32.0\n"
          ]
        }
      ]
    },
    {
      "cell_type": "code",
      "source": [
        "cat_imputer = SimpleImputer(strategy='most_frequent')  # Mengisi missing values pada kolom kategorikal dengan nilai terbanyak\n",
        "categorical_cols = [\"Sering Telat Bangun\"]  # Daftar kolom kategorikal yang akan diimputasi\n",
        "dataset[categorical_cols] = cat_imputer.fit_transform(dataset[categorical_cols])  # Menerapkan imputasi ke kolom kategorikal di dataset"
      ],
      "metadata": {
        "id": "vR2XjXiOUCCc"
      },
      "execution_count": 7,
      "outputs": []
    },
    {
      "cell_type": "code",
      "source": [
        "print(dataset[categorical_cols])  # Menampilkan kolom kategorikal di dataset untuk memastikan tidak ada missing value (nan)"
      ],
      "metadata": {
        "colab": {
          "base_uri": "https://localhost:8080/"
        },
        "id": "uENZv0TXUOKP",
        "outputId": "aa714729-58f9-4f3f-c33f-b14d953e30d6"
      },
      "execution_count": 8,
      "outputs": [
        {
          "output_type": "stream",
          "name": "stdout",
          "text": [
            "   Sering Telat Bangun\n",
            "0                   Ya\n",
            "1                   Ya\n",
            "2                Tidak\n",
            "3                   Ya\n",
            "4                Tidak\n",
            "5                Tidak\n",
            "6                   Ya\n",
            "7                   Ya\n",
            "8                   Ya\n",
            "9                   Ya\n",
            "10               Tidak\n",
            "11                  Ya\n",
            "12                  Ya\n",
            "13                  Ya\n",
            "14               Tidak\n"
          ]
        }
      ]
    },
    {
      "cell_type": "code",
      "source": [
        "x = dataset.iloc[:, :-1].values  # Memuat ulang array fitur (X) dari dataset yang sudah tidak ada missing values"
      ],
      "metadata": {
        "id": "KB0J9c5XUW9O"
      },
      "execution_count": 9,
      "outputs": []
    },
    {
      "cell_type": "code",
      "source": [
        "print(x)  # Menampilkan array fitur (X) memastikan tidak ada missing values"
      ],
      "metadata": {
        "colab": {
          "base_uri": "https://localhost:8080/"
        },
        "id": "V62qWfz_U6ZR",
        "outputId": "151c9ed1-207c-451f-e1ad-03862f8157a0"
      },
      "execution_count": 10,
      "outputs": [
        {
          "output_type": "stream",
          "name": "stdout",
          "text": [
            "[['Laki-laki' 6.0 1.0 113.0 2.0 33.0 'Ya']\n",
            " ['Perempuan' 8.0 2.230769230769231 119.0 6.0 19.0 'Ya']\n",
            " ['Perempuan' 7.0 3.0 110.0 6.0 28.0 'Tidak']\n",
            " ['Laki-laki' 8.0 3.0 125.0 5.0 35.0 'Ya']\n",
            " ['Perempuan' 7.416666666666667 2.0 99.0 9.0 27.0 'Tidak']\n",
            " ['Perempuan' 7.0 4.0 117.83333333333333 3.0 34.0 'Tidak']\n",
            " ['Laki-laki' 9.0 4.0 117.83333333333333 5.0 22.0 'Ya']\n",
            " ['Perempuan' 7.0 0.0 134.0 5.0 31.0 'Ya']\n",
            " ['Perempuan' 7.416666666666667 0.0 116.0 3.0 27.0 'Ya']\n",
            " ['Laki-laki' 7.0 3.0 139.0 6.0 30.0 'Ya']\n",
            " ['Laki-laki' 7.416666666666667 2.0 120.0 4.714285714285714 19.0 'Tidak']\n",
            " ['Laki-laki' 8.0 1.0 101.0 6.0 21.0 'Ya']\n",
            " ['Perempuan' 7.0 3.0 131.0 3.0 20.0 'Ya']\n",
            " ['Laki-laki' 6.0 2.230769230769231 107.0 5.0 27.0 'Ya']\n",
            " ['Laki-laki' 9.0 3.0 117.83333333333333 2.0 32.0 'Tidak']]\n"
          ]
        }
      ]
    },
    {
      "cell_type": "code",
      "source": [
        "# Encoding Data Kategorikal\n",
        "from sklearn.preprocessing import OneHotEncoder, LabelEncoder  # Mengimpor encoder untuk mengubah data kategorikal menjadi numerik\n",
        "from sklearn.compose import ColumnTransformer  # Mengimpor ColumnTransformer untuk menerapkan transformasi pada beberapa kolom\n",
        "\n",
        "# Encoding kolom \"Jenis Kelamin\"(index: 0) dan \"Sering Telat Bangun\"(index: 6) dengan One-Hot Encoding\n",
        "ct = ColumnTransformer(transformers=[('encoder', OneHotEncoder(), [0, 6])], remainder='passthrough')\n",
        "x = np.array(ct.fit_transform(x))  # Menerapkan One-Hot Encoding dan mengubah hasilnya menjadi array NumPy"
      ],
      "metadata": {
        "id": "FUHaEjSRU-vZ"
      },
      "execution_count": 11,
      "outputs": []
    },
    {
      "cell_type": "code",
      "source": [
        "print(x)  # Menampilkan array x"
      ],
      "metadata": {
        "colab": {
          "base_uri": "https://localhost:8080/"
        },
        "id": "noRDDBxwWOQc",
        "outputId": "e3420ef7-2f6c-47f3-998d-49957b25c550"
      },
      "execution_count": 12,
      "outputs": [
        {
          "output_type": "stream",
          "name": "stdout",
          "text": [
            "[[1.0 0.0 0.0 1.0 6.0 1.0 113.0 2.0 33.0]\n",
            " [0.0 1.0 0.0 1.0 8.0 2.230769230769231 119.0 6.0 19.0]\n",
            " [0.0 1.0 1.0 0.0 7.0 3.0 110.0 6.0 28.0]\n",
            " [1.0 0.0 0.0 1.0 8.0 3.0 125.0 5.0 35.0]\n",
            " [0.0 1.0 1.0 0.0 7.416666666666667 2.0 99.0 9.0 27.0]\n",
            " [0.0 1.0 1.0 0.0 7.0 4.0 117.83333333333333 3.0 34.0]\n",
            " [1.0 0.0 0.0 1.0 9.0 4.0 117.83333333333333 5.0 22.0]\n",
            " [0.0 1.0 0.0 1.0 7.0 0.0 134.0 5.0 31.0]\n",
            " [0.0 1.0 0.0 1.0 7.416666666666667 0.0 116.0 3.0 27.0]\n",
            " [1.0 0.0 0.0 1.0 7.0 3.0 139.0 6.0 30.0]\n",
            " [1.0 0.0 1.0 0.0 7.416666666666667 2.0 120.0 4.714285714285714 19.0]\n",
            " [1.0 0.0 0.0 1.0 8.0 1.0 101.0 6.0 21.0]\n",
            " [0.0 1.0 0.0 1.0 7.0 3.0 131.0 3.0 20.0]\n",
            " [1.0 0.0 0.0 1.0 6.0 2.230769230769231 107.0 5.0 27.0]\n",
            " [1.0 0.0 1.0 0.0 9.0 3.0 117.83333333333333 2.0 32.0]]\n"
          ]
        }
      ]
    },
    {
      "cell_type": "code",
      "source": [
        "le = LabelEncoder()  # Membuat objek LabelEncoder pada variabel le untuk mengubah label kategorikal menjadi numerik\n",
        "y = le.fit_transform(y)  # Menerapkan encoding pada label (y)"
      ],
      "metadata": {
        "id": "7nkMcAlfWjT8"
      },
      "execution_count": 13,
      "outputs": []
    },
    {
      "cell_type": "code",
      "source": [
        "print(y)  # Menampilkan array y"
      ],
      "metadata": {
        "colab": {
          "base_uri": "https://localhost:8080/"
        },
        "id": "mPzMc9IuW1bu",
        "outputId": "b052dd17-a70c-42ed-b128-93d8561c96b4"
      },
      "execution_count": 14,
      "outputs": [
        {
          "output_type": "stream",
          "name": "stdout",
          "text": [
            "[0 1 1 1 1 0 0 0 0 1 1 1 0 1 0]\n"
          ]
        }
      ]
    },
    {
      "cell_type": "code",
      "source": [
        "from sklearn.model_selection import train_test_split  # Mengimpor train_test_split untuk membagi dataset menjadi data latih dan data uji\n",
        "\n",
        "# Membagi dataset menjadi dua bagian:\n",
        "# - x_train dan y_train untuk melatih model (80% dari data)\n",
        "# - x_test dan y_test untuk menguji model (20% dari data)\n",
        "# Parameter random_state=1 memastikan pembagian data yang sama setiap kali kode dijalankan\n",
        "x_train, x_test, y_train, y_test = train_test_split(x, y, test_size=0.2, random_state=1)\n"
      ],
      "metadata": {
        "id": "ZxwWWRbFW59v"
      },
      "execution_count": 15,
      "outputs": []
    },
    {
      "cell_type": "code",
      "source": [
        "print(x_train)  # Menampilkan array x_train"
      ],
      "metadata": {
        "colab": {
          "base_uri": "https://localhost:8080/"
        },
        "id": "0ivwmkuNXQnQ",
        "outputId": "a22bebd3-773c-4473-e6bb-d2feea5a7d6b"
      },
      "execution_count": 16,
      "outputs": [
        {
          "output_type": "stream",
          "name": "stdout",
          "text": [
            "[[0.0 1.0 1.0 0.0 7.0 3.0 110.0 6.0 28.0]\n",
            " [1.0 0.0 1.0 0.0 7.416666666666667 2.0 120.0 4.714285714285714 19.0]\n",
            " [0.0 1.0 1.0 0.0 7.416666666666667 2.0 99.0 9.0 27.0]\n",
            " [0.0 1.0 0.0 1.0 8.0 2.230769230769231 119.0 6.0 19.0]\n",
            " [1.0 0.0 0.0 1.0 6.0 2.230769230769231 107.0 5.0 27.0]\n",
            " [1.0 0.0 0.0 1.0 6.0 1.0 113.0 2.0 33.0]\n",
            " [1.0 0.0 1.0 0.0 9.0 3.0 117.83333333333333 2.0 32.0]\n",
            " [1.0 0.0 0.0 1.0 7.0 3.0 139.0 6.0 30.0]\n",
            " [0.0 1.0 0.0 1.0 7.416666666666667 0.0 116.0 3.0 27.0]\n",
            " [0.0 1.0 0.0 1.0 7.0 3.0 131.0 3.0 20.0]\n",
            " [1.0 0.0 0.0 1.0 8.0 1.0 101.0 6.0 21.0]\n",
            " [0.0 1.0 1.0 0.0 7.0 4.0 117.83333333333333 3.0 34.0]]\n"
          ]
        }
      ]
    },
    {
      "cell_type": "code",
      "source": [
        "print(x_test)  # Menampilkan array x_test"
      ],
      "metadata": {
        "colab": {
          "base_uri": "https://localhost:8080/"
        },
        "id": "wa7XIUnxXbu6",
        "outputId": "9158d72e-bdf1-4ed3-df21-99908988e63b"
      },
      "execution_count": 17,
      "outputs": [
        {
          "output_type": "stream",
          "name": "stdout",
          "text": [
            "[[1.0 0.0 0.0 1.0 8.0 3.0 125.0 5.0 35.0]\n",
            " [0.0 1.0 0.0 1.0 7.0 0.0 134.0 5.0 31.0]\n",
            " [1.0 0.0 0.0 1.0 9.0 4.0 117.83333333333333 5.0 22.0]]\n"
          ]
        }
      ]
    },
    {
      "cell_type": "code",
      "source": [
        "print(y_train)  # Menampilkan array y_train"
      ],
      "metadata": {
        "colab": {
          "base_uri": "https://localhost:8080/"
        },
        "id": "tRTcI8HrXfmC",
        "outputId": "0e2f307f-fce5-46dd-b3d1-3a873dab0b3a"
      },
      "execution_count": 18,
      "outputs": [
        {
          "output_type": "stream",
          "name": "stdout",
          "text": [
            "[1 1 1 1 1 0 0 1 0 0 1 0]\n"
          ]
        }
      ]
    },
    {
      "cell_type": "code",
      "source": [
        "print(y_test)  # Menampilkan array y_test"
      ],
      "metadata": {
        "colab": {
          "base_uri": "https://localhost:8080/"
        },
        "id": "m6fcK6eyXlGr",
        "outputId": "7d8a64ea-43c5-44a1-dd30-73581a956c26"
      },
      "execution_count": 19,
      "outputs": [
        {
          "output_type": "stream",
          "name": "stdout",
          "text": [
            "[1 0 0]\n"
          ]
        }
      ]
    },
    {
      "cell_type": "code",
      "source": [
        "from sklearn.preprocessing import StandardScaler  # Mengimpor StandardScaler untuk normalisasi data\n",
        "\n",
        "sc = StandardScaler()  # Inisialisasi objek StandardScaler pada variabel sc\n",
        "\n",
        "# Standarisasi hanya untuk fitur numerik (dimulai dari indeks ke-4)\n",
        "# karena fitur 0-3 adalah hasil One-Hot Encoding \"Jenis Kelamin\" dan \"Sering Telat Bangun\" (berisi 0 dan 1)\n",
        "x_train[:, 4:] = sc.fit_transform(x_train[:, 4:])  # Fit dan transformasi pada data training\n",
        "x_test[:, 4:] = sc.transform(x_test[:, 4:])  # Hanya transformasi pada data testing (menggunakan skala yang sama)\n"
      ],
      "metadata": {
        "id": "j4SdJGAYXrSU"
      },
      "execution_count": 20,
      "outputs": []
    },
    {
      "cell_type": "code",
      "source": [
        "print(x_train)  # Menampilkan array x_train"
      ],
      "metadata": {
        "colab": {
          "base_uri": "https://localhost:8080/"
        },
        "id": "q7JAULesYjja",
        "outputId": "ab219ec6-4ad4-40a5-8992-91ad33b9a44a"
      },
      "execution_count": 21,
      "outputs": [
        {
          "output_type": "stream",
          "name": "stdout",
          "text": [
            "[[0.0 1.0 1.0 0.0 -0.3394128616614478 0.7466087288315868\n",
            "  -0.5402926865238011 0.6747097830170129 0.30242663535891173]\n",
            " [1.0 0.0 1.0 0.0 0.18276077166385743 -0.19267322034363496\n",
            "  0.3771854604034066 0.035511041211421616 -1.4166300287864826]\n",
            " [0.0 1.0 1.0 0.0 0.18276077166385743 -0.19267322034363496\n",
            "  -1.5495186481437295 2.166173513896726 0.11142033934275682]\n",
            " [0.0 1.0 0.0 1.0 0.9138038583192839 0.024084152542954738\n",
            "  0.2854376457106858 0.6747097830170129 -1.4166300287864826]\n",
            " [1.0 0.0 0.0 1.0 -1.5926295816421794 0.024084152542954738\n",
            "  -0.8155361306019634 0.1775552060571085 0.11142033934275682]\n",
            " [1.0 0.0 0.0 1.0 -1.5926295816421794 -1.1319551695188568\n",
            "  -0.26504924244563877 -1.3139085248226046 1.2574581154396864]\n",
            " [1.0 0.0 1.0 0.0 2.1670205783000154 0.7466087288315868\n",
            "  0.17839852856917782 -1.3139085248226046 1.0664518194235315]\n",
            " [1.0 0.0 0.0 1.0 -0.3394128616614478 0.7466087288315868\n",
            "  2.1203939395651012 0.6747097830170129 0.6844392273912215]\n",
            " [0.0 1.0 0.0 1.0 0.18276077166385743 -2.0712371186940786\n",
            "  0.010194201632523516 -0.8167539478627002 0.11142033934275682]\n",
            " [0.0 1.0 0.0 1.0 -0.3394128616614478 0.7466087288315868\n",
            "  1.386411422023335 -0.8167539478627002 -1.2256237327703277]\n",
            " [1.0 0.0 0.0 1.0 0.9138038583192839 -1.1319551695188568\n",
            "  -1.366023018758288 0.6747097830170129 -1.0346174367541727]\n",
            " [0.0 1.0 1.0 0.0 -0.3394128616614478 1.6858906780068086\n",
            "  0.17839852856917782 -0.8167539478627002 1.4484644114558414]]\n"
          ]
        }
      ]
    },
    {
      "cell_type": "code",
      "source": [
        "print(x_test)  # Menampilkan array x_test"
      ],
      "metadata": {
        "colab": {
          "base_uri": "https://localhost:8080/"
        },
        "id": "9h4FFT6NY0nv",
        "outputId": "eabe402f-74d6-4da6-b6d1-9dbb3a40ed03"
      },
      "execution_count": 22,
      "outputs": [
        {
          "output_type": "stream",
          "name": "stdout",
          "text": [
            "[[1.0 0.0 0.0 1.0 0.9138038583192839 0.7466087288315868\n",
            "  0.8359245338670104 0.1775552060571085 1.6394707074719963]\n",
            " [0.0 1.0 0.0 1.0 -0.3394128616614478 -2.0712371186940786\n",
            "  1.6616548661014974 0.1775552060571085 0.8754455234073765]\n",
            " [1.0 0.0 0.0 1.0 2.1670205783000154 1.6858906780068086\n",
            "  0.17839852856917782 0.1775552060571085 -0.8436111407380178]]\n"
          ]
        }
      ]
    },
    {
      "cell_type": "code",
      "source": [
        "# Menampilkan distribusi fitur numerik setelah preprocessing\n",
        "# Daftar nama kolom fitur setelah One-Hot Encoding\n",
        "feature_names = [\"Jenis_Kelamin_L\", \"Jenis_Kelamin_P\", \"Kebiasaan_Bangun_Terlambat_Tidak\", \"Kebiasaan_Bangun_Terlambat_Ya\",\n",
        "                 \"Durasi_Tidur\", \"Konsumsi_Kafein\", \"Tekanan_Darah\", \"Screen_Time\", \"BMI\"]\n",
        "\n",
        "# Konversi x_train menjadi DataFrame Pandas agar lebih mudah diproses\n",
        "x_train_df = pd.DataFrame(x_train, columns=feature_names)\n",
        "\n",
        "# Membuat histogram untuk melihat distribusi fitur numerik setelah preprocessing\n",
        "plt.figure(figsize=(10, 5))  # Menentukan ukuran gambar\n",
        "for col in [\"Durasi_Tidur\", \"Konsumsi_Kafein\", \"Tekanan_Darah\", \"Screen_Time\", \"BMI\"]:  # Memilih kolom numerik\n",
        "    plt.hist(x_train_df[col], bins=10, alpha=0.7, label=col)  # Membuat histogram untuk setiap fitur\n",
        "\n",
        "# Menambahkan label dan judul pada plot\n",
        "plt.xlabel(\"Nilai Fitur\")  # Label sumbu x\n",
        "plt.ylabel(\"Frekuensi\")  # Label sumbu y\n",
        "plt.title(\"Distribusi Data Setelah Preprocessing\")  # Judul plot\n",
        "plt.legend()  # Menampilkan legenda\n",
        "plt.show()  # Menampilkan plot\n"
      ],
      "metadata": {
        "colab": {
          "base_uri": "https://localhost:8080/",
          "height": 487
        },
        "id": "SrGrN0TxY188",
        "outputId": "4ea5fd21-7b1b-46b2-d103-eab5021077ad"
      },
      "execution_count": 23,
      "outputs": [
        {
          "output_type": "display_data",
          "data": {
            "text/plain": [
              "<Figure size 1000x500 with 1 Axes>"
            ],
            "image/png": "[encoded data removed]"
          },
          "metadata": {}
        }
      ]
    }
  ]
}